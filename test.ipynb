{
 "cells": [
  {
   "cell_type": "code",
   "execution_count": 48,
   "metadata": {},
   "outputs": [],
   "source": [
    "import data_processing\n",
    "import numpy as np\n",
    "import torch"
   ]
  },
  {
   "cell_type": "code",
   "execution_count": 49,
   "metadata": {},
   "outputs": [],
   "source": [
    "device = torch.device(\"cuda\" if torch.cuda.is_available() else \"cpu\")\n",
    "#device = torch.device(\"cpu\")"
   ]
  },
  {
   "cell_type": "code",
   "execution_count": 50,
   "metadata": {},
   "outputs": [
    {
     "name": "stdout",
     "output_type": "stream",
     "text": [
      "Device:  cuda\n"
     ]
    }
   ],
   "source": [
    "print(\"Device: \", device)"
   ]
  },
  {
   "cell_type": "code",
   "execution_count": 51,
   "metadata": {},
   "outputs": [],
   "source": [
    "torch.set_default_device(device)"
   ]
  },
  {
   "cell_type": "code",
   "execution_count": 52,
   "metadata": {},
   "outputs": [],
   "source": [
    "text = data_processing.read_data()\n",
    "\n",
    "chars = tuple(set(text))\n",
    "int2char = dict(enumerate(chars))\n",
    "char2int = {ch: ii for ii, ch in int2char.items()}"
   ]
  },
  {
   "cell_type": "code",
   "execution_count": 53,
   "metadata": {},
   "outputs": [],
   "source": [
    "encoded = np.array([char2int[ch] for ch in text])\n"
   ]
  },
  {
   "cell_type": "code",
   "execution_count": 54,
   "metadata": {},
   "outputs": [
    {
     "data": {
      "text/plain": [
       "(1115394,)"
      ]
     },
     "execution_count": 54,
     "metadata": {},
     "output_type": "execute_result"
    }
   ],
   "source": [
    "encoded.shape"
   ]
  },
  {
   "cell_type": "code",
   "execution_count": 55,
   "metadata": {},
   "outputs": [],
   "source": [
    "def window_data_test_train(data,train_split=0.8,window_size=5):\n",
    "    train = data[:int(len(data)*train_split)]\n",
    "    test = data[int(len(data)*train_split):]\n",
    "    train_window = np.lib.stride_tricks.sliding_window_view(train, window_shape=window_size, axis=0)\n",
    "    test_window = np.lib.stride_tricks.sliding_window_view(test, window_shape=window_size, axis=0)\n",
    "    X_train = train_window[:-1, :]\n",
    "    X_test = test_window[:-1, :]\n",
    "    Y_train = train_window[1:, :]\n",
    "    Y_test = test_window[1:, :]\n",
    "    return torch.tensor(X_train),torch.tensor(X_test),torch.tensor(Y_train),torch.tensor(Y_test)"
   ]
  },
  {
   "cell_type": "code",
   "execution_count": 56,
   "metadata": {},
   "outputs": [],
   "source": [
    "x_train,x_test,y_train,y_test = window_data_test_train(encoded)"
   ]
  },
  {
   "cell_type": "code",
   "execution_count": 57,
   "metadata": {},
   "outputs": [
    {
     "data": {
      "text/plain": [
       "True"
      ]
     },
     "execution_count": 57,
     "metadata": {},
     "output_type": "execute_result"
    }
   ],
   "source": [
    "x_train.shape[0] + x_test.shape[0] == encoded.shape[0] - (2*4 + 2)"
   ]
  },
  {
   "cell_type": "code",
   "execution_count": 58,
   "metadata": {},
   "outputs": [
    {
     "data": {
      "text/plain": [
       "torch.Size([5, 20])"
      ]
     },
     "execution_count": 58,
     "metadata": {},
     "output_type": "execute_result"
    }
   ],
   "source": [
    "from torch.nn import functional as F\n",
    "from torch import nn\n",
    "\n",
    "test = nn.Linear(10,20)\n",
    "\n",
    "test(torch.randn(5,10)).shape"
   ]
  },
  {
   "cell_type": "code",
   "execution_count": 59,
   "metadata": {},
   "outputs": [
    {
     "data": {
      "text/plain": [
       "torch.Size([20, 10])"
      ]
     },
     "execution_count": 59,
     "metadata": {},
     "output_type": "execute_result"
    }
   ],
   "source": [
    "test.weight.shape"
   ]
  },
  {
   "cell_type": "code",
   "execution_count": 60,
   "metadata": {},
   "outputs": [],
   "source": [
    "x_train,y_train = data_processing.batch_data(x_train,y_train)"
   ]
  },
  {
   "cell_type": "code",
   "execution_count": 61,
   "metadata": {},
   "outputs": [
    {
     "data": {
      "text/plain": [
       "(torch.Size([27884, 32, 5]), torch.Size([32, 5]))"
      ]
     },
     "execution_count": 61,
     "metadata": {},
     "output_type": "execute_result"
    }
   ],
   "source": [
    "x_train.shape,x_train[0].shape"
   ]
  },
  {
   "cell_type": "code",
   "execution_count": 62,
   "metadata": {},
   "outputs": [
    {
     "data": {
      "text/plain": [
       "torch.Size([32, 5, 65])"
      ]
     },
     "execution_count": 62,
     "metadata": {},
     "output_type": "execute_result"
    }
   ],
   "source": [
    "from self_attention import Self_Attention\n",
    "\n",
    "self_att = Self_Attention(10,len(set(text)),10,len(set(text)))\n",
    "\n",
    "self_att(x_train[0],mask=True).shape"
   ]
  },
  {
   "cell_type": "code",
   "execution_count": 63,
   "metadata": {},
   "outputs": [
    {
     "name": "stdout",
     "output_type": "stream",
     "text": [
      "Epoch [1/1], Step [1/27884], Loss: 4.1813\n",
      "Epoch [1/1], Step [1001/27884], Loss: 2.6611\n",
      "Epoch [1/1], Step [2001/27884], Loss: 2.5095\n",
      "Epoch [1/1], Step [3001/27884], Loss: 2.1648\n",
      "Epoch [1/1], Step [4001/27884], Loss: 1.8017\n",
      "Epoch [1/1], Step [5001/27884], Loss: 2.1877\n",
      "Epoch [1/1], Step [6001/27884], Loss: 2.0524\n",
      "Epoch [1/1], Step [7001/27884], Loss: 2.3179\n",
      "Epoch [1/1], Step [8001/27884], Loss: 1.7227\n",
      "Epoch [1/1], Step [9001/27884], Loss: 1.6664\n",
      "Epoch [1/1], Step [10001/27884], Loss: 1.9115\n",
      "Epoch [1/1], Step [11001/27884], Loss: 1.8766\n",
      "Epoch [1/1], Step [12001/27884], Loss: 2.1099\n",
      "Epoch [1/1], Step [13001/27884], Loss: 1.9156\n",
      "Epoch [1/1], Step [14001/27884], Loss: 1.8559\n",
      "Epoch [1/1], Step [15001/27884], Loss: 1.7728\n",
      "Epoch [1/1], Step [16001/27884], Loss: 1.7328\n",
      "Epoch [1/1], Step [17001/27884], Loss: 1.7262\n",
      "Epoch [1/1], Step [18001/27884], Loss: 1.9363\n",
      "Epoch [1/1], Step [19001/27884], Loss: 1.5691\n",
      "Epoch [1/1], Step [20001/27884], Loss: 1.9759\n",
      "Epoch [1/1], Step [21001/27884], Loss: 1.9401\n",
      "Epoch [1/1], Step [22001/27884], Loss: 2.0639\n",
      "Epoch [1/1], Step [23001/27884], Loss: 2.1398\n",
      "Epoch [1/1], Step [24001/27884], Loss: 1.8738\n",
      "Epoch [1/1], Step [25001/27884], Loss: 1.7615\n",
      "Epoch [1/1], Step [26001/27884], Loss: 1.6111\n",
      "Epoch [1/1], Step [27001/27884], Loss: 2.1083\n",
      "Epoch [1/1], Loss: 2.0370\n",
      "Validation Loss: 1.9422\n"
     ]
    }
   ],
   "source": [
    "model = self_att\n",
    "\n",
    "optimizer = torch.optim.Adam(model.parameters(), lr=0.001)\n",
    "\n",
    "# Training loop\n",
    "num_epochs = 1\n",
    "for epoch in range(num_epochs):\n",
    "    model.train()\n",
    "    epoch_loss = 0\n",
    "    for i in range(x_train.shape[0]):\n",
    "        inputs = x_train[i].to(device)\n",
    "        targets = y_train[i].to(device)\n",
    "\n",
    "        # Forward pass\n",
    "        outputs = model(inputs)\n",
    "        outputs = outputs.view(-1, outputs.shape[-1])\n",
    "        targets = targets.view(-1)\n",
    "        loss = F.cross_entropy(outputs, targets)\n",
    "\n",
    "        # Backward pass and optimization\n",
    "        optimizer.zero_grad()\n",
    "        loss.backward()\n",
    "        optimizer.step()\n",
    "\n",
    "        epoch_loss += loss.item()\n",
    "        if i % 1000 == 0:\n",
    "            print(f'Epoch [{epoch+1}/{num_epochs}], Step [{i+1}/{x_train.shape[0]}], Loss: {loss.item():.4f}')\n",
    "\n",
    "    print(f'Epoch [{epoch+1}/{num_epochs}], Loss: {epoch_loss/len(x_train):.4f}')\n",
    "    # Validation loop\n",
    "    model.eval()\n",
    "    val_loss = 0\n",
    "    with torch.no_grad():\n",
    "        for i in range(x_test.shape[0]//2,x_test.shape[0]):\n",
    "            inputs = x_test[i].to(device)\n",
    "            targets = y_test[i].to(device)\n",
    "\n",
    "            # Forward pass\n",
    "            outputs = model(inputs)\n",
    "            loss = F.cross_entropy(outputs, targets)\n",
    "\n",
    "            val_loss += loss.item()\n",
    "\n",
    "    print(f'Validation Loss: {val_loss/len(x_test):.4f}')"
   ]
  },
  {
   "cell_type": "code",
   "execution_count": 65,
   "metadata": {},
   "outputs": [],
   "source": [
    "test = model.generate(y_test[0:1],100)"
   ]
  },
  {
   "cell_type": "code",
   "execution_count": 66,
   "metadata": {},
   "outputs": [],
   "source": [
    "test_np = test[0].detach().cpu().numpy().tolist()"
   ]
  },
  {
   "cell_type": "code",
   "execution_count": 67,
   "metadata": {},
   "outputs": [
    {
     "name": "stdout",
     "output_type": "stream",
     "text": [
      "ou ar ar ar ar d arhi ar ar  ar ar a araror ar umamrary w arar a k a y ar arar es arar alwarar , airarmwy\n"
     ]
    }
   ],
   "source": [
    "list_char = [int2char[index] for index in test_np]\n",
    "print(''.join(list_char))"
   ]
  }
 ],
 "metadata": {
  "kernelspec": {
   "display_name": "env",
   "language": "python",
   "name": "python3"
  },
  "language_info": {
   "codemirror_mode": {
    "name": "ipython",
    "version": 3
   },
   "file_extension": ".py",
   "mimetype": "text/x-python",
   "name": "python",
   "nbconvert_exporter": "python",
   "pygments_lexer": "ipython3",
   "version": "3.10.12"
  }
 },
 "nbformat": 4,
 "nbformat_minor": 2
}
